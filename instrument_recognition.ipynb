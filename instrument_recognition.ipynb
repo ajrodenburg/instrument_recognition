{
  "nbformat": 4,
  "nbformat_minor": 0,
  "metadata": {
    "colab": {
      "name": "instrument_recognition.ipynb",
      "provenance": [],
      "collapsed_sections": [
        "xjjSDBjiBLw8"
      ],
      "authorship_tag": "ABX9TyP52bynvr9kq605/hCJZpe9"
    },
    "kernelspec": {
      "name": "python3",
      "display_name": "Python 3"
    }
  },
  "cells": [
    {
      "cell_type": "markdown",
      "metadata": {
        "id": "U3LxhezCBjHi",
        "colab_type": "text"
      },
      "source": [
        "# Instrument recognition\n"
      ]
    },
    {
      "cell_type": "markdown",
      "metadata": {
        "id": "ABKt-lmXBZTf",
        "colab_type": "text"
      },
      "source": [
        "## `Import packages & mount google drive`"
      ]
    },
    {
      "cell_type": "code",
      "metadata": {
        "id": "MixP7uByFt0a",
        "colab_type": "code",
        "colab": {}
      },
      "source": [
        "import os       # For path-manipulations etc\n",
        "import librosa  # For all kinds of audio manipulations\n",
        "import numpy as np\n",
        "import matplotlib.pyplot as plt"
      ],
      "execution_count": 1,
      "outputs": []
    },
    {
      "cell_type": "code",
      "metadata": {
        "id": "bCqcpjkvUNEg",
        "colab_type": "code",
        "colab": {
          "base_uri": "https://localhost:8080/",
          "height": 124
        },
        "outputId": "03f9f1e9-f6a6-440c-8bd0-d3e96d857573"
      },
      "source": [
        "# Mount google drive\n",
        "from google.colab import drive\n",
        "drive.mount('/content/drive')"
      ],
      "execution_count": 2,
      "outputs": [
        {
          "output_type": "stream",
          "text": [
            "Go to this URL in a browser: https://accounts.google.com/o/oauth2/auth?client_id=947318989803-6bn6qk8qdgf4n4g3pfee6491hc0brc4i.apps.googleusercontent.com&redirect_uri=urn%3aietf%3awg%3aoauth%3a2.0%3aoob&scope=email%20https%3a%2f%2fwww.googleapis.com%2fauth%2fdocs.test%20https%3a%2f%2fwww.googleapis.com%2fauth%2fdrive%20https%3a%2f%2fwww.googleapis.com%2fauth%2fdrive.photos.readonly%20https%3a%2f%2fwww.googleapis.com%2fauth%2fpeopleapi.readonly&response_type=code\n",
            "\n",
            "Enter your authorization code:\n",
            "··········\n",
            "Mounted at /content/drive\n"
          ],
          "name": "stdout"
        }
      ]
    },
    {
      "cell_type": "markdown",
      "metadata": {
        "id": "xjjSDBjiBLw8",
        "colab_type": "text"
      },
      "source": [
        "## Import data"
      ]
    },
    {
      "cell_type": "code",
      "metadata": {
        "id": "hofZpbKAue0b",
        "colab_type": "code",
        "colab": {}
      },
      "source": [
        "def import_data(data_dir, ins_annotations, max_songs_per_annotation = None):\n",
        "  \"\"\"\n",
        "  Imports the data.\n",
        "\n",
        "  Parameters\n",
        "  ----------\n",
        "\n",
        "  data_dir : string\n",
        "    Path of the directory that contains the data. It is assumed that \n",
        "    this directory contains subdirectories, whose titles are given by\n",
        "    the annotations of the various instruments. The actual sound-files \n",
        "    are inside these subfolders.\n",
        "\n",
        "  ins_annotations : array of strings\n",
        "    List of the annotations of the various annotations - these strings \n",
        "    also the names of the subfolders that contain the data with that \n",
        "    annotation.\n",
        "\n",
        "  max_songs_per_annotations : int, optional\n",
        "    Maximum number of songs to include per annotation. Useful to test my code\n",
        "    while working only a smaller dataset.\n",
        "  Returns\n",
        "  -------\n",
        "\n",
        "  sample_rates : np.array of ints\n",
        "    List of the sample-rates (in Hz) of all the music-files\n",
        "\n",
        "  data : list of np.arrays\n",
        "    List of time-domain data (in np.array format) of all music snippets.\n",
        "\n",
        "  classifications : np.array of strings\n",
        "    List of the annotation for every song - the annotation is for\n",
        "    the predominant instrument.\n",
        "\n",
        "  \"\"\"\n",
        "\n",
        "  # Initalize the to-be-returned np.arrays\n",
        "  sample_rates = np.array([])\n",
        "  data = [] # note: its type is list, not np.array, because the data-signals \n",
        "            # it contains may - in principle - be of different length\n",
        "  classifications = np.array([])\n",
        "\n",
        "  # Import\n",
        "  for annotation in ins_annotations:\n",
        "\n",
        "    print(f\"Importing data from annotation '{annotation}'\")\n",
        "    data_subdir = os.path.join(data_dir,annotation)\n",
        "\n",
        "    for filename in os.listdir(data_subdir)[:max_songs_per_annotation]:\n",
        "\n",
        "      dt, sr = librosa.load( os.path.join(data_subdir,filename), sr=None, mono = False )\n",
        "\n",
        "      data.append(dt)\n",
        "      sample_rates = np.append(sample_rates,sr)\n",
        "      classifications = np.append(classifications,annotation)\n",
        "\n",
        "  return sample_rates, data, classifications"
      ],
      "execution_count": 14,
      "outputs": []
    },
    {
      "cell_type": "code",
      "metadata": {
        "id": "VX_7JByJA5Eb",
        "colab_type": "code",
        "colab": {
          "base_uri": "https://localhost:8080/",
          "height": 208
        },
        "outputId": "e0ac0df8-5a1d-4e33-b583-57efabe76c41"
      },
      "source": [
        "# Set working directory for this project\n",
        "base_dir = '/content/drive/My Drive/Colab Notebooks/instrument_recognition'\n",
        "os.chdir(base_dir)\n",
        "\n",
        "# Data directory:\n",
        "data_dir = os.path.join(base_dir,'data','IRMAS','trainingdata')\n",
        "# List of the strings used as instrument annotations\n",
        "ins_annotations = ['cel','cla','flu','gac','gel','org','pia','sax','tru','vio','voi']\n",
        "\n",
        "#Import data\n",
        "sample_rates, data, classifications = import_data(data_dir, ins_annotations, max_songs_per_annotation = 20)"
      ],
      "execution_count": 15,
      "outputs": [
        {
          "output_type": "stream",
          "text": [
            "Importing data from annotation 'cel'\n",
            "Importing data from annotation 'cla'\n",
            "Importing data from annotation 'flu'\n",
            "Importing data from annotation 'gac'\n",
            "Importing data from annotation 'gel'\n",
            "Importing data from annotation 'org'\n",
            "Importing data from annotation 'pia'\n",
            "Importing data from annotation 'sax'\n",
            "Importing data from annotation 'tru'\n",
            "Importing data from annotation 'vio'\n",
            "Importing data from annotation 'voi'\n"
          ],
          "name": "stdout"
        }
      ]
    },
    {
      "cell_type": "markdown",
      "metadata": {
        "id": "2EJnlhtlC9kI",
        "colab_type": "text"
      },
      "source": [
        "## Preprocessing"
      ]
    },
    {
      "cell_type": "code",
      "metadata": {
        "id": "pe8bypAzD2Tj",
        "colab_type": "code",
        "colab": {
          "base_uri": "https://localhost:8080/",
          "height": 52
        },
        "outputId": "e9b174d3-c6d7-4b1e-f71c-4970598f0efe"
      },
      "source": [
        "data[1][0]"
      ],
      "execution_count": 20,
      "outputs": [
        {
          "output_type": "execute_result",
          "data": {
            "text/plain": [
              "array([ 0.00869751,  0.0098877 ,  0.01147461, ..., -0.0201416 ,\n",
              "       -0.01913452, -0.0178833 ], dtype=float32)"
            ]
          },
          "metadata": {
            "tags": []
          },
          "execution_count": 20
        }
      ]
    },
    {
      "cell_type": "code",
      "metadata": {
        "id": "R9_0-x01siu3",
        "colab_type": "code",
        "colab": {
          "base_uri": "https://localhost:8080/",
          "height": 202
        },
        "outputId": "a7e7aab3-abc4-4ff0-9d27-71161d022af9"
      },
      "source": [
        "range(0,)"
      ],
      "execution_count": 55,
      "outputs": [
        {
          "output_type": "error",
          "ename": "TypeError",
          "evalue": "ignored",
          "traceback": [
            "\u001b[0;31m---------------------------------------------------------------------------\u001b[0m",
            "\u001b[0;31mTypeError\u001b[0m                                 Traceback (most recent call last)",
            "\u001b[0;32m<ipython-input-55-2950b5fefe57>\u001b[0m in \u001b[0;36m<module>\u001b[0;34m()\u001b[0m\n\u001b[0;32m----> 1\u001b[0;31m \u001b[0mrange\u001b[0m\u001b[0;34m(\u001b[0m\u001b[0;36m0\u001b[0m\u001b[0;34m,\u001b[0m\u001b[0;36m3\u001b[0m\u001b[0;34m,\u001b[0m\u001b[0;36m2.5\u001b[0m\u001b[0;34m)\u001b[0m\u001b[0;34m\u001b[0m\u001b[0;34m\u001b[0m\u001b[0m\n\u001b[0m",
            "\u001b[0;31mTypeError\u001b[0m: 'float' object cannot be interpreted as an integer"
          ]
        }
      ]
    },
    {
      "cell_type": "code",
      "metadata": {
        "id": "Xh9ePxXWDGlV",
        "colab_type": "code",
        "colab": {
          "base_uri": "https://localhost:8080/",
          "height": 254
        },
        "outputId": "daf5fca3-1933-4aec-8f19-11fadc8e6c20"
      },
      "source": [
        "plt.figure()\n",
        "plt.plot(range(0,3,1./sample_rates[3]), data[3][0])\n",
        "plt.plot(data[3][1])"
      ],
      "execution_count": 46,
      "outputs": [
        {
          "output_type": "error",
          "ename": "AttributeError",
          "evalue": "ignored",
          "traceback": [
            "\u001b[0;31m---------------------------------------------------------------------------\u001b[0m",
            "\u001b[0;31mAttributeError\u001b[0m                            Traceback (most recent call last)",
            "\u001b[0;32m<ipython-input-46-00dfa914bf1b>\u001b[0m in \u001b[0;36m<module>\u001b[0;34m()\u001b[0m\n\u001b[1;32m      1\u001b[0m \u001b[0mplt\u001b[0m\u001b[0;34m.\u001b[0m\u001b[0mfigure\u001b[0m\u001b[0;34m(\u001b[0m\u001b[0;34m)\u001b[0m\u001b[0;34m\u001b[0m\u001b[0;34m\u001b[0m\u001b[0m\n\u001b[0;32m----> 2\u001b[0;31m \u001b[0mplt\u001b[0m\u001b[0;34m.\u001b[0m\u001b[0mplot\u001b[0m\u001b[0;34m(\u001b[0m\u001b[0mnp\u001b[0m\u001b[0;34m.\u001b[0m\u001b[0mrange\u001b[0m\u001b[0;34m(\u001b[0m\u001b[0;36m0\u001b[0m\u001b[0;34m,\u001b[0m\u001b[0;36m3\u001b[0m\u001b[0;34m,\u001b[0m\u001b[0;36m1.\u001b[0m\u001b[0;34m/\u001b[0m\u001b[0msample_rates\u001b[0m\u001b[0;34m[\u001b[0m\u001b[0;36m3\u001b[0m\u001b[0;34m]\u001b[0m\u001b[0;34m)\u001b[0m\u001b[0;34m,\u001b[0m \u001b[0mdata\u001b[0m\u001b[0;34m[\u001b[0m\u001b[0;36m3\u001b[0m\u001b[0;34m]\u001b[0m\u001b[0;34m[\u001b[0m\u001b[0;36m0\u001b[0m\u001b[0;34m]\u001b[0m\u001b[0;34m)\u001b[0m\u001b[0;34m\u001b[0m\u001b[0;34m\u001b[0m\u001b[0m\n\u001b[0m\u001b[1;32m      3\u001b[0m \u001b[0mplt\u001b[0m\u001b[0;34m.\u001b[0m\u001b[0mplot\u001b[0m\u001b[0;34m(\u001b[0m\u001b[0mdata\u001b[0m\u001b[0;34m[\u001b[0m\u001b[0;36m3\u001b[0m\u001b[0;34m]\u001b[0m\u001b[0;34m[\u001b[0m\u001b[0;36m1\u001b[0m\u001b[0;34m]\u001b[0m\u001b[0;34m)\u001b[0m\u001b[0;34m\u001b[0m\u001b[0;34m\u001b[0m\u001b[0m\n",
            "\u001b[0;31mAttributeError\u001b[0m: module 'numpy' has no attribute 'range'"
          ]
        },
        {
          "output_type": "display_data",
          "data": {
            "text/plain": [
              "<Figure size 432x288 with 0 Axes>"
            ]
          },
          "metadata": {
            "tags": []
          }
        }
      ]
    },
    {
      "cell_type": "markdown",
      "metadata": {
        "id": "aM9zgmgLCHB2",
        "colab_type": "text"
      },
      "source": [
        "## Train a classifier"
      ]
    }
  ]
}