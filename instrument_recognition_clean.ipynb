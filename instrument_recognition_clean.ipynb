{
  "nbformat": 4,
  "nbformat_minor": 0,
  "metadata": {
    "colab": {
      "name": "instrument_recognition_clean.ipynb",
      "provenance": [],
      "collapsed_sections": [
        "xjjSDBjiBLw8"
      ],
      "authorship_tag": "ABX9TyPcqbn6v0oVuL8G7d9mdeAg",
      "include_colab_link": true
    },
    "kernelspec": {
      "name": "python3",
      "display_name": "Python 3"
    },
    "accelerator": "GPU"
  },
  "cells": [
    {
      "cell_type": "markdown",
      "metadata": {
        "id": "view-in-github",
        "colab_type": "text"
      },
      "source": [
        "<a href=\"https://colab.research.google.com/github/ajrodenburg/instrument_recognition/blob/Jeroen/instrument_recognition_clean.ipynb\" target=\"_parent\"><img src=\"https://colab.research.google.com/assets/colab-badge.svg\" alt=\"Open In Colab\"/></a>"
      ]
    },
    {
      "cell_type": "markdown",
      "metadata": {
        "id": "U3LxhezCBjHi",
        "colab_type": "text"
      },
      "source": [
        "# <font color = #003399> **Instrument recognition** </font>\n"
      ]
    },
    {
      "cell_type": "markdown",
      "metadata": {
        "id": "ABKt-lmXBZTf",
        "colab_type": "text"
      },
      "source": [
        "## <font color = \"purple\"> **Initialize** </font>\n"
      ]
    },
    {
      "cell_type": "markdown",
      "metadata": {
        "id": "p_nIC2yLr7_D",
        "colab_type": "text"
      },
      "source": [
        "### <font color = \"green\"> **Import packages** </font>"
      ]
    },
    {
      "cell_type": "code",
      "metadata": {
        "id": "MixP7uByFt0a",
        "colab_type": "code",
        "colab": {}
      },
      "source": [
        "import os       # For path-manipulations etc\n",
        "\n",
        "import librosa  # For all kinds of audio manipulations\n",
        "from librosa import display\n",
        "\n",
        "from IPython.display import Audio #to play audio inside the notebook\n",
        "\n",
        "import numpy as np\n",
        "import scipy\n",
        "import matplotlib.pyplot as plt"
      ],
      "execution_count": 1,
      "outputs": []
    },
    {
      "cell_type": "markdown",
      "metadata": {
        "id": "a7pQyQazsDgL",
        "colab_type": "text"
      },
      "source": [
        "### <font color = \"green\"> **Mount google drive** </font>"
      ]
    },
    {
      "cell_type": "code",
      "metadata": {
        "id": "bCqcpjkvUNEg",
        "colab_type": "code",
        "colab": {
          "base_uri": "https://localhost:8080/",
          "height": 54
        },
        "outputId": "8e406d65-4c90-495a-d8eb-6600bb4448cc"
      },
      "source": [
        "# Mount google drive\n",
        "from google.colab import drive\n",
        "drive.mount('/content/drive')"
      ],
      "execution_count": 2,
      "outputs": [
        {
          "output_type": "stream",
          "text": [
            "Drive already mounted at /content/drive; to attempt to forcibly remount, call drive.mount(\"/content/drive\", force_remount=True).\n"
          ],
          "name": "stdout"
        }
      ]
    },
    {
      "cell_type": "markdown",
      "metadata": {
        "id": "xjjSDBjiBLw8",
        "colab_type": "text"
      },
      "source": [
        "## <font color=\"purple\"> **Import data** </font>"
      ]
    },
    {
      "cell_type": "code",
      "metadata": {
        "id": "hofZpbKAue0b",
        "colab_type": "code",
        "colab": {}
      },
      "source": [
        "def import_data(data_dir, ins_annotations, max_songs_per_annotation = None):\n",
        "  \"\"\"\n",
        "  Imports the data.\n",
        "\n",
        "  Parameters\n",
        "  ----------\n",
        "\n",
        "  data_dir : string\n",
        "    Path of the directory that contains the data. It is assumed that \n",
        "    this directory contains subdirectories, whose titles are given by\n",
        "    the annotations of the various instruments. The actual sound-files \n",
        "    are inside these subfolders.\n",
        "\n",
        "  ins_annotations : array of strings\n",
        "    List of the annotations of the various annotations - these strings \n",
        "    also the names of the subfolders that contain the data with that \n",
        "    annotation.\n",
        "\n",
        "  max_songs_per_annotations : int, optional\n",
        "    Maximum number of songs to include per annotation. Useful to test my code\n",
        "    while working only a smaller dataset.\n",
        "\n",
        "  Returns\n",
        "  -------\n",
        "\n",
        "  sampling_rates : np.array of ints\n",
        "    List of the sample-rates (in Hz) of all the music-files\n",
        "\n",
        "  data : list of np.arrays\n",
        "    List of time-domain data (in np.array format) of all music snippets.\n",
        "\n",
        "  classifications : np.array of strings\n",
        "    List of the annotation for every song - the annotation is for\n",
        "    the predominant instrument.\n",
        "\n",
        "  \"\"\"\n",
        "\n",
        "  # Initalize the to-be-returned np.arrays\n",
        "  sampling_rates = [] #note: I'm choosing this to be a list, not a np.arrary.\n",
        "                    #The reaons is not very good -  but it seems easier to \n",
        "                    # append integers to a list. \n",
        "                    # If I were to intiialize sampling_rates as a np.array, \n",
        "                    # every entry of sampling_rates is automatically treated\n",
        "                    # as float64..\n",
        "  data = [] # note: its type is list, not np.array, because the data-signals \n",
        "            # it contains may - in principle - be of different length\n",
        "  classifications = np.array([])\n",
        "\n",
        "  # Import:\n",
        "  for annotation in ins_annotations:\n",
        "\n",
        "    print(f\"\\nImporting data with annotation '{annotation}'\")\n",
        "    data_subdir = os.path.join(data_dir,annotation)\n",
        "    list_filenames = os.listdir(data_subdir)\n",
        "\n",
        "    # Initialize counter that counts how many files are imported with this\n",
        "    # annotation --  used only to print this number during the importing.\n",
        "    counter = 0\n",
        "\n",
        "    for filename in list_filenames[:max_songs_per_annotation]:\n",
        "\n",
        "      dt, sr = librosa.load( os.path.join(data_subdir,filename), sr = None, mono = False )\n",
        "\n",
        "      data.append(dt)\n",
        "      sampling_rates.append( int(sr) )\n",
        "      classifications = np.append(classifications,annotation)\n",
        "\n",
        "      # print the number of imported snippets so far:\n",
        "      counter = counter + 1\n",
        "      print(f\"\\rImported snippets: {counter} of {len(list_filenames)}\", end = '')\n",
        "\n",
        "  return sampling_rates, data, classifications"
      ],
      "execution_count": 3,
      "outputs": []
    },
    {
      "cell_type": "code",
      "metadata": {
        "id": "VX_7JByJA5Eb",
        "colab_type": "code",
        "colab": {
          "base_uri": "https://localhost:8080/",
          "height": 416
        },
        "outputId": "b993813d-6190-4380-ea01-b79e4998bc51"
      },
      "source": [
        "# Set working directory for this project\n",
        "base_dir = '/content/drive/My Drive/Colab Notebooks/instrument_recognition'\n",
        "os.chdir(base_dir)\n",
        "\n",
        "# Data directory:\n",
        "data_dir = os.path.join(base_dir,'data','IRMAS','trainingdata')\n",
        "# List of the strings used as instrument annotations\n",
        "ins_annotations = ['cel','cla','flu','gac','gel','org','pia','sax','tru','vio','voi']\n",
        "\n",
        "#Import data\n",
        "sampling_rates, data, y =\\\n",
        "  import_data(data_dir, ins_annotations, max_songs_per_annotation = None)"
      ],
      "execution_count": 4,
      "outputs": [
        {
          "output_type": "stream",
          "text": [
            "\n",
            "Importing data with annotation 'cel'\n",
            "Imported snippets: 5 of 388\n",
            "Importing data with annotation 'cla'\n",
            "Imported snippets: 5 of 505\n",
            "Importing data with annotation 'flu'\n",
            "Imported snippets: 5 of 451\n",
            "Importing data with annotation 'gac'\n",
            "Imported snippets: 5 of 637\n",
            "Importing data with annotation 'gel'\n",
            "Imported snippets: 5 of 760\n",
            "Importing data with annotation 'org'\n",
            "Imported snippets: 5 of 682\n",
            "Importing data with annotation 'pia'\n",
            "Imported snippets: 5 of 721\n",
            "Importing data with annotation 'sax'\n",
            "Imported snippets: 5 of 626\n",
            "Importing data with annotation 'tru'\n",
            "Imported snippets: 5 of 577\n",
            "Importing data with annotation 'vio'\n",
            "Imported snippets: 5 of 580\n",
            "Importing data with annotation 'voi'\n",
            "Imported snippets: 5 of 779"
          ],
          "name": "stdout"
        }
      ]
    },
    {
      "cell_type": "markdown",
      "metadata": {
        "id": "2EJnlhtlC9kI",
        "colab_type": "text"
      },
      "source": [
        "## <font color=\"purple\"> **Preprocessing** </font>"
      ]
    },
    {
      "cell_type": "markdown",
      "metadata": {
        "id": "rlPBSFADYbHJ",
        "colab_type": "text"
      },
      "source": [
        "**Features**: The first *n_mfcc* mel-frequency cepstral coefficients, time-averaged over all time-windows. *n_mfcc* can be specified.  "
      ]
    },
    {
      "cell_type": "markdown",
      "metadata": {
        "id": "_Y_qlA0pV2nh",
        "colab_type": "text"
      },
      "source": [
        "### <font color = \"green\"> **Supporting functions** </font>\n"
      ]
    },
    {
      "cell_type": "code",
      "metadata": {
        "id": "nrf49MsWVWAG",
        "colab_type": "code",
        "colab": {}
      },
      "source": [
        "def obtain_average_mfccs(data, sampling_rates, window_time, time_step = None, n_mfcc = 20):\n",
        "  \"\"\"\n",
        "  Obtains, for every time-profile in 'data', the MFCC's (averaged over all time-windows) \n",
        "\n",
        "  Parameters\n",
        "  ----------\n",
        "\n",
        "  data : list of m np.arrays of shape 2 x something\n",
        "    Here m is the number of snippets. Every entry of data contains the time-series of a single music snippet, \n",
        "    which is assumed to be stereo.\n",
        "\n",
        "  sampling_rates : list of m ints\n",
        "    Every int is the sample rate of the corresponding entry in data.\n",
        "\n",
        "  window_time : float\n",
        "    Length in seconds of a window to be used in the short-time Fourier transform,\n",
        "    that is part of the mfcc-routine.\n",
        "\n",
        "  time_step : float, optional\n",
        "    Length in seconds of the time step between two successive windows.\n",
        "    If not provided, it is set to window_time/2.\n",
        "\n",
        "  n_mfcc : int\n",
        "    Number of to-be-returned mel-frequency cepstral coefficients per snippet.\n",
        "\n",
        "  Returns\n",
        "  -------\n",
        "\n",
        "  average_mfccs : np.array of shape m x 2 x n_mfcc\n",
        "    Every entry of this list corresponds to one entry of data, and contains \n",
        "    the mfcc's averaged of the left- and right-component of the stereo signal.\n",
        "  \"\"\"\n",
        "\n",
        "  # If time_step is not defined, give it a standard value:\n",
        "  if time_step == None:\n",
        "    time_step = window_time / 2\n",
        "    print(f'The time-step is not specifed and therefore set to the standard value: window_time/2 = {time_step}')\n",
        "\n",
        "  # Define useful variable:\n",
        "  m = len(data)\n",
        "\n",
        "  # Initialize the to-be-returned np.array of average mfccs\n",
        "  average_mfccs = np.zeros((m,2,n_mfcc))\n",
        "\n",
        "  # Loop over data samples (snippets), \n",
        "  # and calculate the average mfcc's for every sample\n",
        "  for i in range(m):\n",
        "    # Parameters for dividing total time sample into windows:\n",
        "    ## Length of a window\n",
        "    n_fft = int(np.ceil(sampling_rates[i]*window_time)) \n",
        "    ## Hop length between two successive windows\n",
        "    hop_length = int(np.ceil(sampling_rates[i]*time_step))\n",
        "\n",
        "    # Calculate the mffc for the left- and right-audio\n",
        "    mfccs_left = librosa.feature.mfcc(data[i][0], sr = sampling_rates[i], n_fft = n_fft, hop_length = hop_length)\n",
        "    mfccs_right = librosa.feature.mfcc(data[i][1], sr = sampling_rates[i], n_fft = n_fft, hop_length = hop_length)\n",
        "\n",
        "    # Average mfccs over all time-windows,\n",
        "    # and store result in average_mfccs:\n",
        "    average_mfccs[i,0] = np.mean(mfccs_left,axis=1)\n",
        "    average_mfccs[i,1] = np.mean(mfccs_right,axis=1)\n",
        "\n",
        "    print(f'\\rNumber of average mfccs obtained: {i+1} out of {m}', end = '')\n",
        "\n",
        "  return average_mfccs"
      ],
      "execution_count": 5,
      "outputs": []
    },
    {
      "cell_type": "code",
      "metadata": {
        "id": "ZSHF__E6VgCI",
        "colab_type": "code",
        "colab": {}
      },
      "source": [
        "def standardize(X, axis = None):\n",
        "  \"\"\"\n",
        "  `Standardizes' the elements of a 2D array: \n",
        "  To every entry we substract the mean of its column\n",
        "  and divide by the standard-deviation of its column.\n",
        "\n",
        "  Parameters\n",
        "  ----------\n",
        "\n",
        "  X : np.array of shape (m,n) for ints m, n\n",
        "    To-be-standardized array\n",
        "\n",
        "  Returns\n",
        "  -------\n",
        "  X_std : np.array of shape (m,n)\n",
        "    Standardized array\n",
        "  \"\"\"\n",
        "\n",
        "  # Compute mean and standarddeviation for every column:\n",
        "  mu = np.mean(X, axis = 0)\n",
        "  sigma = np.std(X, axis = 0)\n",
        "\n",
        "  # For every element of array: \n",
        "  # substract mean and divide by standarddeviation\n",
        "  X_std = (X - mu)/sigma\n",
        "  ## Note that the shapes of array, mu and sigma do not match,\n",
        "  ## but the broadcasting property of the python operations '-'\n",
        "  ## and '/' ensures that it works as it should.\n",
        "\n",
        "  return X_std"
      ],
      "execution_count": 6,
      "outputs": []
    },
    {
      "cell_type": "markdown",
      "metadata": {
        "id": "ljpFr9KtELkY",
        "colab_type": "text"
      },
      "source": [
        "### <font color = \"green\"> **Perform the preprocessing** </font>"
      ]
    },
    {
      "cell_type": "markdown",
      "metadata": {
        "id": "-T7oixwc5JAm",
        "colab_type": "text"
      },
      "source": [
        "**Remark on splitting of the data**: I'm using the IRMAS 'trainingdataset' as my **entire** dataset - which I will split into training, cross-validation and testingsets. This is the simplest thing to do right now. They also provide 'trainingdata', but it's of a different format than their trainingdata (longer snippets etc). It's interesting to test a trained classifier on that too - but a bit more complicated. For now, let's do the simplest thing possible."
      ]
    },
    {
      "cell_type": "code",
      "metadata": {
        "id": "UMQ5XNpqE0UW",
        "colab_type": "code",
        "colab": {}
      },
      "source": [
        "def preprocess_using_mfccs(data, sampling_rates, y,\\\n",
        "                           window_time, time_step = None, n_mfcc = 20,\\\n",
        "                           fraction_train = 0.6, fraction_test = 0.2):\n",
        "  '''\n",
        "  Takes the time-data, its sampling rates and its labels, and performs \n",
        "  the preprocessing: it returns the data and labels ready to be used for\n",
        "  machine learning algorithms. As features it uses, for every snippet, its\n",
        "  n_mfcc first time-averaged mfccs. It also separates the data into training, \n",
        "  cross-validation, and testdata. And it standardizes the features, i.e.\n",
        "  it makes sure that distribution of every coefficient has zero mean and unit\n",
        "  variance.\n",
        "\n",
        "  Parameters\n",
        "  ----------\n",
        "\n",
        "  data : list of m np.arrays of shape 2 x something\n",
        "    Here m is the number of snippets, and `something' the number of \n",
        "    time-samples of a single snippet. Every entry of data contains \n",
        "    the time-series of a single music snippet, which is assumed to be stereo.\n",
        "  \n",
        "  y : list of m strings.\n",
        "    y[i] is the annotation that corresponds to the snippet encoded by data[i].\n",
        "\n",
        "  sampling_rates : list of m ints\n",
        "    Every int is the sample rate of the corresponding entry in data.\n",
        "\n",
        "  window_time : float\n",
        "    Length in seconds of a window to be used in the short-time Fourier transform,\n",
        "    that is part of the mfcc-routine.\n",
        "\n",
        "  time_step : float, optional\n",
        "    Length in seconds of the time step between two successive windows.\n",
        "    If not provided, it is set to window_time/2.\n",
        "\n",
        "  n_mfcc : int, optional\n",
        "    Number of to-be-returned mel-frequency cepstral coefficients per snippet.\n",
        "    Standard value is 20.\n",
        "\n",
        "  fraction_train : float, s.t. 0 <= fraction_train <= 1.\n",
        "    Fraction of the total dataset to be used as trainingset.\n",
        "  \n",
        "  fraction_CV : float, s.t. 0 <= fraction_CV <= 1 - fraction_train.\n",
        "    Fraction of the total dataset to be used as trainingset.\n",
        "\n",
        "  Returns\n",
        "  -------\n",
        "\n",
        "  X_train_std : np.array of shape (m_train, n_mfcc)\n",
        "    Standardized training data. \n",
        "    Standardized means that every subset X_train[:,n_mfcc] was:\n",
        "      1. Shifted s.t. its mean = 0.\n",
        "      2. Normalized s.t. its standarddeviation = 1.\n",
        "  \n",
        "  X_CV_std : np.array of shape (m_CV, n_mfcc)\n",
        "    Standardized cross-validation data.\n",
        "\n",
        "  X_test_std : np.array of shape (m_test, n_mfcc)\n",
        "    Standardized testdata.\n",
        "\n",
        "  y_train : np.array of shape (m_train,)\n",
        "    Labels of training data.\n",
        "\n",
        "  y_CV : np. array of shape (m_CV,)\n",
        "    Labels of cross-validation data.\n",
        "\n",
        "  y_test : np.array of shape (m_test,)\n",
        "    Labels of testdata.\n",
        "  '''\n",
        "\n",
        "  # Steps:\n",
        "  # (1) Obtain the time-averaged mfccs of every sample.\n",
        "  # (2) Reshape the resulting list of our stereo-data into more suitable format.\n",
        "  # (3) Split into training, cross-validation and testset.\n",
        "  # (4) Standardize features.\n",
        "\n",
        "  # Useful variable:\n",
        "  m = len(data)\n",
        "\n",
        "  # Step (1): Obtain the time-averaged mfccs of every sample.\n",
        "  average_mfccs = obtain_average_mfccs(data, sampling_rates, window_time = 0.030)\n",
        "\n",
        "  # Step (2): Reshape the resulting list of our stereo-data into more suitable format.\n",
        "  X = np.reshape(average_mfccs,(m,2*n_mfcc))\n",
        "\n",
        "  # Step (3): Split into training, cross-validation and testset.\n",
        "  ## Before splitting, we shuffle X & y:\n",
        "  from sklearn.utils import shuffle\n",
        "  X_shuffled, y_shuffled = shuffle(X,y)\n",
        "\n",
        "  ## Now, we split:\n",
        "\n",
        "  ### Define the fractions of the data to be used\n",
        "  ### for training, and cross-validation (CV); \n",
        "  ### the remainder will be the testing fraction:\n",
        "\n",
        "  fraction_train = 0.6\n",
        "  fraction_CV    = 0.2\n",
        "\n",
        "  ### Number of samples for training, CV and testing:\n",
        "  m_train = int( np.ceil( fraction_train * m ) )\n",
        "  m_CV    = int( np.ceil( fraction_CV * m  ) )\n",
        "  m_test  = m - m_train - m_CV\n",
        "\n",
        "  ### Split\n",
        "\n",
        "  X_train = X_shuffled[:m_train]\n",
        "  X_CV    = X_shuffled[m_train:(m_train+m_CV)]\n",
        "  X_test  = X_shuffled[-m_test:]\n",
        "\n",
        "  y_train = y_shuffled[:m_train]\n",
        "  y_CV    = y_shuffled[m_train:(m_train+m_CV)]\n",
        "  y_test  = y_shuffled[-m_test:]\n",
        "\n",
        "  # Step (4): Standarddize all features.\n",
        "\n",
        "  X_train_std = standardize(X_train)\n",
        "  X_CV_std = standardize(X_CV)\n",
        "  X_test_std = standardize(X_test)\n",
        "\n",
        "  return X_train_std, X_CV_std, X_test_std, y_train, y_CV, y_test"
      ],
      "execution_count": 7,
      "outputs": []
    },
    {
      "cell_type": "code",
      "metadata": {
        "id": "puslXSr9M8lg",
        "colab_type": "code",
        "colab": {
          "base_uri": "https://localhost:8080/",
          "height": 52
        },
        "outputId": "328134a3-dffa-4366-dbc5-3f73fe8160c5"
      },
      "source": [
        "X_train_std, X_CV_std, X_test_std, y_train, y_CV, y_test = \\\n",
        "  preprocess_using_mfccs(data, sampling_rates, y,\\\n",
        "                         window_time = 0.030, time_step = None, n_mfcc = 20,\\\n",
        "                         fraction_train = 0.6, fraction_test = 0.2)"
      ],
      "execution_count": 8,
      "outputs": [
        {
          "output_type": "stream",
          "text": [
            "The time-step is not specifed and therefore set to the standard value: window_time/2 = 0.015\n",
            "Number of average mfccs obtained: 55 out of 55"
          ],
          "name": "stdout"
        }
      ]
    },
    {
      "cell_type": "markdown",
      "metadata": {
        "id": "aM9zgmgLCHB2",
        "colab_type": "text"
      },
      "source": [
        "## <font color = \"purple\"> **Machine-learning** </font>"
      ]
    },
    {
      "cell_type": "markdown",
      "metadata": {
        "id": "kv_j3xDqP0Bx",
        "colab_type": "text"
      },
      "source": [
        "Let's try a few different classifiers with different algorithms, and compare them. Let's start as simple as possible.\n",
        "\n"
      ]
    },
    {
      "cell_type": "markdown",
      "metadata": {
        "id": "utFHSe2OP-lY",
        "colab_type": "text"
      },
      "source": [
        "### <font color = \"green\"> **Simple logistic regression** </font>"
      ]
    },
    {
      "cell_type": "code",
      "metadata": {
        "id": "8W4IdhZHRC37",
        "colab_type": "code",
        "colab": {}
      },
      "source": [
        "from sklearn.linear_model import LogisticRegression"
      ],
      "execution_count": 22,
      "outputs": []
    },
    {
      "cell_type": "markdown",
      "metadata": {
        "id": "i1rQWuGhZGd3",
        "colab_type": "text"
      },
      "source": [
        "#### <font color = '#CC3300'> **Compare different regularization parameters** </font>"
      ]
    },
    {
      "cell_type": "markdown",
      "metadata": {
        "id": "r37Io2uzfABu",
        "colab_type": "text"
      },
      "source": [
        "##### <font color = 'blue'> **Supporting functions** </font>"
      ]
    },
    {
      "cell_type": "code",
      "metadata": {
        "id": "-s0e5DpPyIVX",
        "colab_type": "code",
        "colab": {}
      },
      "source": [
        "def evaluate_performance_LR(X_train_std, y_train, X_CV_std, y_CV, C):\n",
        "  '''\n",
        "  Trains a Logistic-Regression-Classifier on a trainingset, \n",
        "  and returns its accuracy on the trainingset, as well as on a separate set\n",
        "  (cross-validation or test-set)\n",
        "\n",
        "  Parameters\n",
        "  ----------\n",
        "\n",
        "  X_train_std : np.array of shape (m_train,n_train)\n",
        "    Training data of m_train training samples and n_train standardized features.\n",
        "\n",
        "  y_train : np.array of shape (m_train,)\n",
        "    Labels of training set\n",
        "\n",
        "  X_CV_std : np.array of shape (m_CV,n_CV)\n",
        "    Cross-validation or testing data of m_CV training samples\n",
        "    and n_CV standardized features.\n",
        "\n",
        "  y_CV : np.array of shape (m_CV,)\n",
        "    Labels of cross-valdation or test set.\n",
        "\n",
        "  C : float64 \n",
        "    inverse regularization parameter\n",
        "\n",
        "  Returns\n",
        "  -------\n",
        "\n",
        "  np.array([score_train,score_CV]), where:\n",
        "\n",
        "  score_train : float 64 (where 0 <= score_train <=1 )\n",
        "    Accuracy of the trained logistic-regression-model on the training set.\n",
        "\n",
        "  score_CV : float 64 (where 0 <= score_CV <=1 )\n",
        "    Accuracy of the trained logistic-regression-model \n",
        "    on the cross-validation/test set.\n",
        "  '''\n",
        "\n",
        "  # Initalize Logistic Regression model\n",
        "  logisticRegr = LogisticRegression(C = C, max_iter = 1000)\n",
        "\n",
        "  # Train it\n",
        "  logisticRegr.fit(X_train_std, y_train)\n",
        "\n",
        "  # Evaluate accuracies\n",
        "  score_train = logisticRegr.score(X_train_std, y_train)\n",
        "  score_CV    = logisticRegr.score(X_CV_std   , y_CV)\n",
        "\n",
        "  return np.array([score_train,score_CV])"
      ],
      "execution_count": 23,
      "outputs": []
    },
    {
      "cell_type": "code",
      "metadata": {
        "id": "9FLTyiVMZX_6",
        "colab_type": "code",
        "colab": {}
      },
      "source": [
        "def compare_regparams(X_train_std, y_train, X_CV_std, y_CV,\\\n",
        "                      C_list= np.array([0.001,0.003,0.01,0.03,0.1,0.3,\\\n",
        "                              1,3,10,30,100,300,1000])\\\n",
        "                      ):\n",
        "  '''\n",
        "  Evaluates the performance of the logistic regression classifier for several\n",
        "  (inverse) regularaization parameters 'C'. Selects the best one by finding \n",
        "  the maximum accuracy on the cross-validation set. Returns the scores for \n",
        "  every C, the optimal C, and the optimal classifier.\n",
        "\n",
        "  Parameters\n",
        "  ----------\n",
        "\n",
        "  X_train_std : np.array of shape (m_train,n_train)\n",
        "    Training data of m_train training samples and n_train standardized features.\n",
        "\n",
        "  y_train : np.array of shape (m_train,)\n",
        "    Labels of training set\n",
        "\n",
        "  X_CV_std : np.array of shape (m_CV,n_CV)\n",
        "    Cross-validation or testing data of m_CV training samples\n",
        "    and n_CV standardized features.\n",
        "\n",
        "  y_CV : np.array of shape (m_CV,)\n",
        "    Labels of cross-valdation or test set.\n",
        "\n",
        "  C_list : np.array of float64's \n",
        "    inverse regularization parameter\n",
        "\n",
        "  Returns\n",
        "  -------\n",
        "\n",
        "  np.array([score_train,score_CV]), where:\n",
        "\n",
        "    score_train : float 64 (where 0 <= score_train <=1 )\n",
        "      Accuracy of the trained logistic-regression-model on the training set.\n",
        "\n",
        "    score_CV : float 64 (where 0 <= score_CV <=1 )\n",
        "      Accuracy of the trained logistic-regression-model \n",
        "    on the cross-validation/test set.\n",
        "  \n",
        "  C_best : float64\n",
        "    Optimal value of C, meaning that value of 'C_list' for which the accuracy \n",
        "    on the cross-validation set is maximal.\n",
        "\n",
        "  LR_best : LogisticRegression-class or smth\n",
        "    The optimal logistic regression model\n",
        "  '''\n",
        "\n",
        "  # Calculate scores for all C's:\n",
        "  scores =\\\n",
        "    np.array( \\\n",
        "      [ evaluate_performance_LR(X_train_std, y_train, X_CV_std, y_CV, C)\\\n",
        "       for C in Clist ]\\\n",
        "           )\n",
        "  # Determine the C that gives the maximum score on the cross-validation set.\n",
        "  ind_best = np.argmax(scores[:,1]) # for multiple max-values, it gives \n",
        "                                    # the first one, which is probably fine\n",
        "  C_best = Clist[ind_best]\n",
        "\n",
        "  # Define and train a logistic regression model with this best values of C.\n",
        "  LR_best = LogisticRegression(C = C_best)\n",
        "  LR_best.fit(X_train_std, y_train)\n",
        "\n",
        "  return scores, C_best, LR_best"
      ],
      "execution_count": 24,
      "outputs": []
    },
    {
      "cell_type": "markdown",
      "metadata": {
        "id": "TBIcngYOfYRm",
        "colab_type": "text"
      },
      "source": [
        "##### <font color = 'blue'> **Perform the comparison** </font>"
      ]
    },
    {
      "cell_type": "code",
      "metadata": {
        "id": "1amkAkAoLTXZ",
        "colab_type": "code",
        "colab": {
          "base_uri": "https://localhost:8080/",
          "height": 475
        },
        "outputId": "ef474ae8-918d-423c-fb85-1bd629fe83f3"
      },
      "source": [
        "# Compare different regularization parameters, and plot their performance\n",
        "C_list = [0.001,0.003,0.01,0.03,0.1,0.3,1,3,10,30,100,300,1000]\n",
        "scores, C_best, LR_best =\\\n",
        "  compare_regparams(X_train_std, y_train, X_CV_std, y_CV, C_list= C_list)\n",
        "\n",
        "plt.figure(figsize = (8,5))\n",
        "plt.plot(Clist,scores[:,0],'bo')\n",
        "plt.plot(Clist,scores[:,1],'bs', color = 'orange')\n",
        "plt.xscale('log')\n",
        "plt.ylim((0,1.05))\n",
        "plt.xlabel('inverse regularization parameter C')\n",
        "plt.ylabel('accuracy')\n",
        "plt.title('Performance as a fct of regularization parameter')\n",
        "plt.legend(('training accuracy', 'CV accuracy'), loc = 'lower right')\n",
        "\n",
        "#Summary of the best regularization parameter and the performance of the LR.\n",
        "## Determine scores\n",
        "score_train = LR_best.score(X_train_std, y_train)\n",
        "score_CV    = LR_best.score(X_CV_std   , y_CV)\n",
        "score_test  = LR_best.score(X_test_std , y_test)\n",
        "\n",
        "## Print summary\n",
        "msg = (f'Simple logistic regression was found to work best\\n'\n",
        "       f'with the inverse regularization parameter C = {C_best},\\n'\n",
        "       f'and gave the accuracies:\\n\\n'\n",
        "       f'score_train = {score_train:.2f},\\n'\n",
        "       f'score_CV    = {score_CV:.2f},\\n'\n",
        "       f'score_test  = {score_test:.2f}.' )\n",
        "\n",
        "print(msg)"
      ],
      "execution_count": 25,
      "outputs": [
        {
          "output_type": "stream",
          "text": [
            "Simple logistic regression was found to work best\n",
            "with the inverse regularization parameter C = 0.03,\n",
            "and gave the accuracies:\n",
            "\n",
            "score_train = 0.97,\n",
            "score_CV    = 0.45,\n",
            "score_test  = 0.45.\n"
          ],
          "name": "stdout"
        },
        {
          "output_type": "display_data",
          "data": {
            "image/png": "[encoded data removed]",
            "text/plain": [
              "<Figure size 576x360 with 1 Axes>"
            ]
          },
          "metadata": {
            "tags": [],
            "needs_background": "light"
          }
        }
      ]
    }
  ]
}